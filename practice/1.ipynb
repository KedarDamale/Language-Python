{
 "cells": [
  {
   "cell_type": "markdown",
   "id": "b9f0c20c",
   "metadata": {},
   "source": [
    "# Question\n",
    "\n",
    "**Coffee Shop Billing System**\n",
    "\n",
    "Scenario:\n",
    "You run a small coffee shop and need a system to calculate the bill for a customer based on item selection and quantity.\n",
    "\n",
    "Problem Statement:\n",
    "Write a Python program that accepts a list of items and their quantities from the user, calculates the total bill based on fixed prices (e.g., Coffee: ₹100, Tea: ₹70, Sandwich: ₹150), and prints a formatted bill.\n",
    "\n"
   ]
  },
  {
   "cell_type": "code",
   "execution_count": 1,
   "id": "abb3b801",
   "metadata": {},
   "outputs": [
    {
     "name": "stdout",
     "output_type": "stream",
     "text": [
      "Sorry sir we dont have: vada\n",
      "Apart from above it will be ₹0\n"
     ]
    }
   ],
   "source": [
    "items={\n",
    "    \"Coffee\":100,\n",
    "    \"Tea\":70,\n",
    "    \"Sandwhich\":150\n",
    "}\n",
    "\n",
    "a=input('Please enter your order with the quntity separated by spaces').split()\n",
    "order=[]\n",
    "quantity=[]\n",
    "for idx,i in enumerate(a,start=1):\n",
    "    if idx%2==0:\n",
    "        quantity.append(i)\n",
    "    else:\n",
    "        order.append(i)\n",
    "        \n",
    "quantity=list(map(int,quantity))\n",
    "total=0\n",
    "sorry=[]\n",
    "for i,j in zip(order,quantity):\n",
    "    if i.title() in items:\n",
    "        total+=items.get(i.title())*j\n",
    "    else:\n",
    "        sorry.append(i)\n",
    "        \n",
    "print(f\"Sorry sir we dont have: {' , '.join(sorry)}\")\n",
    "print(f\"Apart from above it will be ₹{total}\")\n",
    "        "
   ]
  },
  {
   "cell_type": "code",
   "execution_count": 2,
   "id": "4c03e887",
   "metadata": {},
   "outputs": [
    {
     "name": "stdout",
     "output_type": "stream",
     "text": [
      "Sorry sir, we don't have: Vada\n",
      "Apart from above, your total is ₹0\n"
     ]
    }
   ],
   "source": [
    "#Optimal soln (chatgpt)\n",
    "\n",
    "\n",
    "items = {\n",
    "    \"Coffee\": 100,\n",
    "    \"Tea\": 70,\n",
    "    \"Sandwich\": 150\n",
    "}\n",
    "\n",
    "user_input = input(\"Enter items and quantities (e.g. 'coffee 2 tea 1'):\\n\").split()\n",
    "\n",
    "if len(user_input) % 2 != 0:\n",
    "    print(\"Invalid input! Please provide item followed by quantity.\")\n",
    "    exit()\n",
    "\n",
    "total = 0\n",
    "missing_items = []\n",
    "\n",
    "# Process input in pairs\n",
    "for i in range(0, len(user_input), 2):\n",
    "    item = user_input[i].title()\n",
    "    try:\n",
    "        qty = int(user_input[i + 1])\n",
    "    except ValueError:\n",
    "        print(f\"Invalid quantity for {item}. Please enter numbers only.\")\n",
    "        exit()\n",
    "\n",
    "    if item in items:\n",
    "        total += items[item] * qty\n",
    "    else:\n",
    "        missing_items.append(item)\n",
    "\n",
    "# Output\n",
    "if missing_items:\n",
    "    print(f\"Sorry sir, we don't have: {', '.join(missing_items)}\")\n",
    "print(f\"Apart from above, your total is ₹{total}\")\n"
   ]
  }
 ],
 "metadata": {
  "kernelspec": {
   "display_name": "Python 3",
   "language": "python",
   "name": "python3"
  },
  "language_info": {
   "codemirror_mode": {
    "name": "ipython",
    "version": 3
   },
   "file_extension": ".py",
   "mimetype": "text/x-python",
   "name": "python",
   "nbconvert_exporter": "python",
   "pygments_lexer": "ipython3",
   "version": "3.11.7"
  }
 },
 "nbformat": 4,
 "nbformat_minor": 5
}
