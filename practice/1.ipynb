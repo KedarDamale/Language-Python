{
 "cells": [
  {
   "cell_type": "markdown",
   "id": "b9f0c20c",
   "metadata": {},
   "source": [
    "# Question\n",
    "\n",
    "**Coffee Shop Billing System**\n",
    "\n",
    "Scenario:\n",
    "You run a small coffee shop and need a system to calculate the bill for a customer based on item selection and quantity.\n",
    "\n",
    "Problem Statement:\n",
    "Write a Python program that accepts a list of items and their quantities from the user, calculates the total bill based on fixed prices (e.g., Coffee: ₹100, Tea: ₹70, Sandwich: ₹150), and prints a formatted bill.\n",
    "\n"
   ]
  },
  {
   "cell_type": "code",
   "execution_count": 1,
   "id": "abb3b801",
   "metadata": {},
   "outputs": [
    {
     "name": "stdout",
     "output_type": "stream",
     "text": [
      "Sorry sir we dont have: \n",
      "Apart from above it will be ₹0\n"
     ]
    }
   ],
   "source": [
    "items={\n",
    "    \"Coffee\":100,\n",
    "    \"Tea\":70,\n",
    "    \"Sandwhich\":150\n",
    "}\n",
    "\n",
    "a=input('Please enter your order with the quntity separated by spaces').split()\n",
    "order=[]\n",
    "quantity=[]\n",
    "for idx,i in enumerate(a,start=1):\n",
    "    if idx%2==0:\n",
    "        quantity.append(i)\n",
    "    else:\n",
    "        order.append(i)\n",
    "        \n",
    "quantity=list(map(int,quantity))\n",
    "total=0\n",
    "sorry=[]\n",
    "for i,j in zip(order,quantity):\n",
    "    if i.title() in items:\n",
    "        total+=items.get(i.title())*j\n",
    "    else:\n",
    "        sorry.append(i)\n",
    "        \n",
    "print(f\"Sorry sir we dont have: {' , '.join(sorry)}\")\n",
    "print(f\"Apart from above it will be ₹{total}\")\n",
    "        "
   ]
  },
  {
   "cell_type": "code",
   "execution_count": null,
   "id": "4c03e887",
   "metadata": {},
   "outputs": [
    {
     "name": "stdout",
     "output_type": "stream",
     "text": [
      "Invalid input! Please provide item followed by quantity.\n"
     ]
    },
    {
     "ename": "IndexError",
     "evalue": "list index out of range",
     "output_type": "error",
     "traceback": [
      "\u001b[1;31m---------------------------------------------------------------------------\u001b[0m",
      "\u001b[1;31mIndexError\u001b[0m                                Traceback (most recent call last)",
      "Cell \u001b[1;32mIn[2], line 23\u001b[0m\n\u001b[0;32m     21\u001b[0m item \u001b[38;5;241m=\u001b[39m user_input[i]\u001b[38;5;241m.\u001b[39mtitle()\n\u001b[0;32m     22\u001b[0m \u001b[38;5;28;01mtry\u001b[39;00m:\n\u001b[1;32m---> 23\u001b[0m     qty \u001b[38;5;241m=\u001b[39m \u001b[38;5;28mint\u001b[39m(\u001b[43muser_input\u001b[49m\u001b[43m[\u001b[49m\u001b[43mi\u001b[49m\u001b[43m \u001b[49m\u001b[38;5;241;43m+\u001b[39;49m\u001b[43m \u001b[49m\u001b[38;5;241;43m1\u001b[39;49m\u001b[43m]\u001b[49m)\n\u001b[0;32m     24\u001b[0m \u001b[38;5;28;01mexcept\u001b[39;00m \u001b[38;5;167;01mValueError\u001b[39;00m:\n\u001b[0;32m     25\u001b[0m     \u001b[38;5;28mprint\u001b[39m(\u001b[38;5;124mf\u001b[39m\u001b[38;5;124m\"\u001b[39m\u001b[38;5;124mInvalid quantity for \u001b[39m\u001b[38;5;132;01m{\u001b[39;00mitem\u001b[38;5;132;01m}\u001b[39;00m\u001b[38;5;124m. Please enter numbers only.\u001b[39m\u001b[38;5;124m\"\u001b[39m)\n",
      "\u001b[1;31mIndexError\u001b[0m: list index out of range"
     ]
    },
    {
     "ename": "",
     "evalue": "",
     "output_type": "error",
     "traceback": [
      "\u001b[1;31mThe Kernel crashed while executing code in the current cell or a previous cell. \n",
      "\u001b[1;31mPlease review the code in the cell(s) to identify a possible cause of the failure. \n",
      "\u001b[1;31mClick <a href='https://aka.ms/vscodeJupyterKernelCrash'>here</a> for more info. \n",
      "\u001b[1;31mView Jupyter <a href='command:jupyter.viewOutput'>log</a> for further details."
     ]
    }
   ],
   "source": [
    "#Optimal soln (chatgpt)\n",
    "\n",
    "\n",
    "items = {\n",
    "    \"Coffee\": 100,\n",
    "    \"Tea\": 70,\n",
    "    \"Sandwich\": 150\n",
    "}\n",
    "\n",
    "user_input = input(\"Enter items and quantities (e.g. 'coffee 2 tea 1'):\\n\").split()\n",
    "\n",
    "if len(user_input) % 2 != 0:\n",
    "    print(\"Invalid input! Please provide item followed by quantity.\")\n",
    "    exit()\n",
    "\n",
    "total = 0\n",
    "missing_items = []\n",
    "\n",
    "# Process input in pairs\n",
    "for i in range(0, len(user_input), 2):\n",
    "    item = user_input[i].title()\n",
    "    try:\n",
    "        qty = int(user_input[i + 1])\n",
    "    except ValueError:\n",
    "        print(f\"Invalid quantity for {item}. Please enter numbers only.\")\n",
    "        exit()\n",
    "\n",
    "    if item in items:\n",
    "        total += items[item] * qty\n",
    "    else:\n",
    "        missing_items.append(item)\n",
    "\n",
    "# Output\n",
    "if missing_items:\n",
    "    print(f\"Sorry sir, we don't have: {', '.join(missing_items)}\")\n",
    "print(f\"Apart from above, your total is ₹{total}\")\n"
   ]
  }
 ],
 "metadata": {
  "kernelspec": {
   "display_name": "Python 3",
   "language": "python",
   "name": "python3"
  },
  "language_info": {
   "codemirror_mode": {
    "name": "ipython",
    "version": 3
   },
   "file_extension": ".py",
   "mimetype": "text/x-python",
   "name": "python",
   "nbconvert_exporter": "python",
   "pygments_lexer": "ipython3",
   "version": "3.11.7"
  }
 },
 "nbformat": 4,
 "nbformat_minor": 5
}
