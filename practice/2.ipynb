{
 "cells": [
  {
   "cell_type": "code",
   "execution_count": null,
   "id": "e78b69e2",
   "metadata": {},
   "outputs": [
    {
     "data": {
      "text/plain": [
       "'\\n2. Student Attendance Tracker\\nScenario:\\nIn your college, attendance is important. You need a way to track if students are eligible to sit for exams based on their attendance.\\n\\nProblem Statement:\\nAccept a student’s name and number of classes attended out of total classes. If attendance is less than 75%, print \"Not eligible\" else \"Eligible\". The program should allow entry for multiple students.\\n\\n\\n'"
      ]
     },
     "execution_count": 1,
     "metadata": {},
     "output_type": "execute_result"
    }
   ],
   "source": [
    "\"\"\"\n",
    "1. Smart Parking System\n",
    "Scenario:\n",
    "You're creating a parking system for a mall. There are 100 slots, and each slot has a status: Occupied or Available.\n",
    "\n",
    "Problem Statement:\n",
    "Write a program that allows:\n",
    "\n",
    "Vehicle entry (mark slot as occupied, assign nearest slot)\n",
    "\n",
    "Vehicle exit (free up slot)\n",
    "\n",
    "Show number of available and occupied slots\n",
    "\n",
    "Display parking map in rows of 10\n",
    "\n",
    "\"\"\""
   ]
  },
  {
   "cell_type": "code",
   "execution_count": null,
   "id": "3cebad35",
   "metadata": {},
   "outputs": [
    {
     "name": "stdout",
     "output_type": "stream",
     "text": [
      "Vehicle parked at spot (0, 0)\n",
      "Vehicle parked at spot (0, 1)\n",
      "Vehicle parked at spot (0, 2)\n",
      "Vehical left from (0, 2)\n",
      "Total parking spots available: 98\n",
      "Current Parking Lot Status:\n",
      "1 1 0 0 0 0 0 0 0 0\n",
      "0 0 0 0 0 0 0 0 0 0\n",
      "0 0 0 0 0 0 0 0 0 0\n",
      "0 0 0 0 0 0 0 0 0 0\n",
      "0 0 0 0 0 0 0 0 0 0\n",
      "0 0 0 0 0 0 0 0 0 0\n",
      "0 0 0 0 0 0 0 0 0 0\n",
      "0 0 0 0 0 0 0 0 0 0\n",
      "0 0 0 0 0 0 0 0 0 0\n",
      "0 0 0 0 0 0 0 0 0 0\n"
     ]
    }
   ],
   "source": [
    "#i will assign 1 for occupied and 0 for unoccupied\n",
    "\n",
    "matrix = [[0 for _ in range(10)] for _ in range(10)]\n",
    "\n",
    "def count_free_spots():\n",
    "    free=0\n",
    "    for i in matrix:\n",
    "        for j in i:\n",
    "            if j==0:\n",
    "                free+=1\n",
    "            else:\n",
    "                pass\n",
    "    print(f\"Total parking spots available: {free}\")\n",
    "    return\n",
    "    \n",
    "            \n",
    "def park():\n",
    "    for idx1,i in enumerate(matrix):\n",
    "        for idx2,j in enumerate(i):\n",
    "            if j==0:\n",
    "                matrix[idx1][idx2]=1\n",
    "                print(f\"Vehicle parked at spot ({idx1}, {idx2})\")\n",
    "                return\n",
    "    print(\"Sorry, parking is full!\")\n",
    "\n",
    "\n",
    "def leave_parking(a, b):\n",
    "    if 0 <= a < 10 and 0 <= b < 10:\n",
    "        if matrix[a][b] == 1:\n",
    "            matrix[a][b] = 0\n",
    "            print(f\"Vehicle left from ({a}, {b})\")\n",
    "        else:\n",
    "            print(f\"Spot ({a}, {b}) is already empty.\")\n",
    "    else:\n",
    "        print(\"Invalid slot coordinates!\")\n",
    "\n",
    "\n",
    "def display_parking():\n",
    "    print(\"Current Parking Lot Status:\")\n",
    "    for row in matrix:\n",
    "        print(\" \".join(str(spot) for spot in row))\n",
    "\n",
    "    \n",
    "     \n",
    "park()\n",
    "park()\n",
    "park()\n",
    "exit(0,2)\n",
    "count_free_spots()\n",
    "display_parking()\n",
    "\n",
    "#this program can be made faster by usage of sets or min heap"
   ]
  },
  {
   "cell_type": "code",
   "execution_count": null,
   "id": "7350e23d",
   "metadata": {},
   "outputs": [],
   "source": []
  }
 ],
 "metadata": {
  "kernelspec": {
   "display_name": "Python 3",
   "language": "python",
   "name": "python3"
  },
  "language_info": {
   "codemirror_mode": {
    "name": "ipython",
    "version": 3
   },
   "file_extension": ".py",
   "mimetype": "text/x-python",
   "name": "python",
   "nbconvert_exporter": "python",
   "pygments_lexer": "ipython3",
   "version": "3.11.7"
  }
 },
 "nbformat": 4,
 "nbformat_minor": 5
}
